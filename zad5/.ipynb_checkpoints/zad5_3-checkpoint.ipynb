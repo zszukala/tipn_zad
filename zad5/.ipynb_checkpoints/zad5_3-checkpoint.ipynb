{
 "cells": [
  {
   "cell_type": "code",
   "execution_count": 1,
   "metadata": {},
   "outputs": [
    {
     "name": "stdin",
     "output_type": "stream",
     "text": [
      "Podaj zdanie:  Na działce za domem jest wybudowany domek dla oposów.\n"
     ]
    },
    {
     "name": "stdout",
     "output_type": "stream",
     "text": [
      "Liczba słów: 8\n"
     ]
    }
   ],
   "source": [
    "zdanie = input('Podaj zdanie: ')\n",
    "\n",
    "liczba_slow = 0\n",
    "\n",
    "for i in zdanie:\n",
    "    if i == ' ':\n",
    "         liczba_slow += 1\n",
    "                \n",
    "print('Liczba słów:', liczba_slow)"
   ]
  },
  {
   "cell_type": "code",
   "execution_count": null,
   "metadata": {},
   "outputs": [],
   "source": []
  }
 ],
 "metadata": {
  "kernelspec": {
   "display_name": "Python 3",
   "language": "python",
   "name": "python3"
  },
  "language_info": {
   "codemirror_mode": {
    "name": "ipython",
    "version": 3
   },
   "file_extension": ".py",
   "mimetype": "text/x-python",
   "name": "python",
   "nbconvert_exporter": "python",
   "pygments_lexer": "ipython3",
   "version": "3.7.0"
  }
 },
 "nbformat": 4,
 "nbformat_minor": 2
}
