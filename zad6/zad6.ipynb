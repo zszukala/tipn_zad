{
 "cells": [
  {
   "cell_type": "code",
   "execution_count": 3,
   "metadata": {},
   "outputs": [],
   "source": [
    "a = \"Czy zgadzasz się ze stwierdzeniem, że lepiej panować nad wodą niż ogniem?\"\n",
    "b = \"Czy zgadzasz się ze stwierdzeniem, że mięsa nie zastąpi się żadnym produktem roślinnym?\"\n",
    "c = \"Czy mógłbyś/mogłabyś powiedzieć o sobie, że kierujesz się w życiu instynktami?\"\n",
    "d = \"Czy jesteś osobą, która zakrywa oczy podczas oglądania krwawych horrorów?\"\n",
    "e = \"Czy zgadzasz się ze stwierdzeniem, że w związku nie może zabraknąć gorącego uczucia?\"\n",
    "f = \"Czy zgadzasz się ze stwierdzeniem, że nie ma nic lepszego od dobrego jedzonka?\"\n",
    "punkty = []"
   ]
  },
  {
   "cell_type": "code",
   "execution_count": 4,
   "metadata": {},
   "outputs": [],
   "source": [
    "def test(os):\n",
    "    \n",
    "    lista_pytan = [a, b, c, d, e, f]\n",
    "    \n",
    "def zadaj_pytanie(a):\n",
    "    \n",
    "    print(a)\n",
    "    ax = input(\"1 oznacza zupełnie sie nie zgadzam, a 5 oznacza całkowicie się zgadzam:\")\n",
    "    ax = int(ax)\n",
    "    if ax > 5 or ax < 1:\n",
    "        print(\"Wpisałeś/aś złą liczbę! Zacznij od początku!\")\n",
    "    else :\n",
    "        return ax"
   ]
  },
  {
   "cell_type": "code",
   "execution_count": null,
   "metadata": {},
   "outputs": [
    {
     "name": "stdout",
     "output_type": "stream",
     "text": [
      "Czy zgadzasz się ze stwierdzeniem, że lepiej panować nad wodą niż ogniem?\n"
     ]
    }
   ],
   "source": [
    "pkt = zadaj_pytanie (a)\n",
    "punkty.append(pkt)\n",
    "pkt = zadaj_pytanie (b)\n",
    "punkty.append(pkt)\n",
    "pkt = zadaj_pytanie (c)\n",
    "punkty.append(pkt)\n",
    "pkt = zadaj_pytanie (d)\n",
    "punkty.append(pkt)\n",
    "pkt = zadaj_pytanie (e)\n",
    "punkty.append(pkt)\n",
    "pkt = zadaj_pytanie (f)\n",
    "punkty.append(pkt)\n",
    "wynik = sum(punkty)\n",
    "wynik = int(wynik)\n",
    "if wynik > 5 and wynik < 10 :\n",
    "    print(\"Twój wynik to\", wynik, \".\", \"Jesteś stekiem wysmażonym w stopniu well done (bardzo dobrze wysmażony) Wolisz, gdy w Twoim życiu wszystko jest poukładane. Lubisz stabilnośc. Dobra książka lub film jest dla Ciebie pomysłem idealnym na spędzenie wolnego czasu.\")\n",
    "elif wynik > 10 and wynik < 15 :\n",
    "    print(\"Twój wynik to\", wynik, \".\", \"Jestes stekiem wysmażonym w medium well (dobrze wysmażony). Jesteś osobą, która lubi spokój. Nigdy nie pomyślałbyś/pomyślałabyś nad skokiem ze spadochronem, czy skoku na bungee. Wolisz spędzać wieczory w domu, przy dobrym filmi i dobrym jedzonku.\")\n",
    "elif wynik > 15 and wynik < 20:\n",
    "    print(\"Twój wynik to\", wynik, \".\", \"Jesteś stekiem wysmażonym w stopniu medium (średnio wysmażony). Na ogół jesteś osoba spokojną, aczkolwiek miewasz czasami przejawy szaleństwa. Potrafisz zaskoczyć znajomych propozycją spontanicznego wypadu za miasto. Jednak potrzebujesz czasami czasu spędzonego samotnie, chwili oddechu.\")\n",
    "elif wynik > 20 and wynik < 25 :\n",
    "    print(\"Twój wynik to\", wynik, \".\", \"Jesteś stekiem wysmażonym w stopniu medium rare (średnio krwisty). Do tańca i do różańca! Jesteś mieszanką, miewasz przejawy spokoju i szaleństwa. Nigdy nie mowisz, że marnujesz czas, bo każda forma spędzania dla Ciebie czasu, będzie interesująca.\")\n",
    "elif wynik > 25 and wynik <30 :\n",
    "    print(\"Twój wynik to\", wynik, \".\", \"Jesteś stekiem wysmażonym w stopniu rare (krwisty). Widać, że lubisz szaleństwo. Twoi znajomi nie mogą narzekać na nudę, gdy się spotykacie. Jesteś duszą towarzystwa.\")\n",
    "elif wynik == 30:\n",
    "    print(\"Twój wynik to\", wynik, \".\", \"Jesteś stekiem wysmażonym w stopniu blue (bardzo krwisty). Jesteś energiczny, ciężko Ci jest usiedzieć w jednym miejscu przez większość czasu. Potrzebujesz w życiu adrenaliny. Skakałeś/aś już ze spadochronem? Może jest to coś dla Ciebie? \")\n",
    "if wynik > 0:\n",
    "    punkty.pop(0)\n",
    "    punkty.pop(0)\n",
    "    punkty.pop(0)\n",
    "    punkty.pop(0)\n",
    "    punkty.pop(0)\n",
    "    punkty.pop(0)\n",
    "else:\n",
    "    print(\"Dziękuję bardzo za wypełnienie testu.\")"
   ]
  },
  {
   "cell_type": "code",
   "execution_count": null,
   "metadata": {},
   "outputs": [],
   "source": []
  }
 ],
 "metadata": {
  "kernelspec": {
   "display_name": "Python 3",
   "language": "python",
   "name": "python3"
  },
  "language_info": {
   "codemirror_mode": {
    "name": "ipython",
    "version": 3
   },
   "file_extension": ".py",
   "mimetype": "text/x-python",
   "name": "python",
   "nbconvert_exporter": "python",
   "pygments_lexer": "ipython3",
   "version": "3.7.0"
  }
 },
 "nbformat": 4,
 "nbformat_minor": 2
}
