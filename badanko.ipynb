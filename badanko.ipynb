{
 "cells": [
  {
   "cell_type": "markdown",
   "metadata": {},
   "source": [
    "# Badanie nad efektem odniesienia do siebie \n",
    "\n",
    "## Badanie przeprowadzane jest indywidualnie. Przed rozpoczęciem eksperymentu badany zaznajamiany jest z procedurą badania. Informuje się go o tym, że na ekranie  wyświetlane będą kolejno pojedynczo słowa. Słowa te składają się na 4 serie (10 słów stanowi jedną serię). Każda z serii stanowi inne zadanie dla osoby badanej. Kwalifikacja słów opiera się na odpowiedziach „tak” - jeśli dane słowo spełnia w opinii badanego dane kryterium lub „nie” - gdy według osoby badanej owe kryterium nie jest spełnione. Każde słowo jest wyświetlane przez 3 sekundy – w tym czasie badany proszony jest o zakwalifikowanie wyświetlanego słowa. Po każdej ekspozycji następuje 500-no milisekundowa przerwa. Wartą wspomnienia zdaje się informacja, że kolejność serii powinna być zmienna dla każdego uczestnika (przymiotniki w każdej z grup także mają być poddawane rotacji przy zestawach dla każdego kolejnego uczestnika). Uczestnikowi nie podaje się informacji o tym, że sprawdzane będzie zapamiętywanie wyświetlanych słów. Podczas ***serii strukturalnej*** uczestnik ma przeszukiwać słowo w poszukiwaniu liter spełniających dane kryterium. W trakcie ***serii fonemicznej*** osoba badana proszona o wyszukiwanie słów, które rymują się z podanymi dodatkowo słowami. W ***serii semantycznej*** należy wskazać, które słowa mają znaczenie synonimiczne do podanych dodatkowo słów. W ***serii „odnoszenie do Ja”*** z kolei, ocenić, czy dany przymiotnik określa osobę badaną. Po czterech seriach uczestnik otrzymuje kartkę, na której proszony jest o zapisanie w jakiejkolwiek kolejności przymiotniki, które zapamiętał. Na to zadanie przeznaczony jest czas 3 minut. Po upływie tego czasu eksperyment jest zakończony.\n",
    "\n"
   ]
  },
  {
   "cell_type": "markdown",
   "metadata": {},
   "source": []
  }
 ],
 "metadata": {
  "kernelspec": {
   "display_name": "Python 3",
   "language": "python",
   "name": "python3"
  },
  "language_info": {
   "codemirror_mode": {
    "name": "ipython",
    "version": 3
   },
   "file_extension": ".py",
   "mimetype": "text/x-python",
   "name": "python",
   "nbconvert_exporter": "python",
   "pygments_lexer": "ipython3",
   "version": "3.7.0"
  }
 },
 "nbformat": 4,
 "nbformat_minor": 2
}
