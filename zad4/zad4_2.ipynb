{
 "cells": [
  {
   "cell_type": "code",
   "execution_count": 1,
   "metadata": {},
   "outputs": [
    {
     "data": {
      "text/plain": [
       "['filozofia', 'metodologia', 'lektorat', 'logika']"
      ]
     },
     "execution_count": 1,
     "metadata": {},
     "output_type": "execute_result"
    }
   ],
   "source": [
    "przedmioty = [ 'filozofia', 'metodologia', 'lektorat', 'logika']\n",
    "przedmioty"
   ]
  },
  {
   "cell_type": "code",
   "execution_count": 1,
   "metadata": {},
   "outputs": [
    {
     "name": "stdin",
     "output_type": "stream",
     "text": [
      "Podaj ocenę z filozofii: 4.0\n",
      "Podaj ocenę z metodologii: 4.0\n",
      "Podaj ocenę z lektoratu: 5.0\n",
      "Podaj ocenę z logiki: 4.0\n"
     ]
    }
   ],
   "source": [
    "lista = []\n",
    "ocena = input(\"Podaj ocenę z filozofii:\")\n",
    "ocena = float(ocena)\n",
    "lista.append(ocena)\n",
    "ocena = input(\"Podaj ocenę z metodologii:\")\n",
    "ocena = float(ocena)\n",
    "lista.append(ocena)\n",
    "ocena = input(\"Podaj ocenę z lektoratu:\")\n",
    "ocena = float(ocena)\n",
    "lista.append(ocena)\n",
    "ocena = input(\"Podaj ocenę z logiki:\")\n",
    "ocena = float(ocena)\n",
    "lista.append(ocena)"
   ]
  },
  {
   "cell_type": "code",
   "execution_count": 2,
   "metadata": {},
   "outputs": [
    {
     "data": {
      "text/plain": [
       "[4.0, 4.0, 5.0, 4.0]"
      ]
     },
     "execution_count": 2,
     "metadata": {},
     "output_type": "execute_result"
    }
   ],
   "source": [
    "lista"
   ]
  },
  {
   "cell_type": "code",
   "execution_count": 3,
   "metadata": {},
   "outputs": [
    {
     "data": {
      "text/plain": [
       "4"
      ]
     },
     "execution_count": 3,
     "metadata": {},
     "output_type": "execute_result"
    }
   ],
   "source": [
    "len(lista)"
   ]
  },
  {
   "cell_type": "code",
   "execution_count": 4,
   "metadata": {},
   "outputs": [
    {
     "data": {
      "text/plain": [
       "17.0"
      ]
     },
     "execution_count": 4,
     "metadata": {},
     "output_type": "execute_result"
    }
   ],
   "source": [
    "sum(lista)"
   ]
  },
  {
   "cell_type": "code",
   "execution_count": 5,
   "metadata": {},
   "outputs": [
    {
     "name": "stdout",
     "output_type": "stream",
     "text": [
      "Moja średnia w pierwszym semestrze, to 4.25\n"
     ]
    }
   ],
   "source": [
    "srednia = sum(lista) / len(lista)\n",
    "print(\"Moja średnia w pierwszym semestrze, to\", str(srednia))"
   ]
  },
  {
   "cell_type": "code",
   "execution_count": null,
   "metadata": {},
   "outputs": [],
   "source": []
  }
 ],
 "metadata": {
  "kernelspec": {
   "display_name": "Python 3",
   "language": "python",
   "name": "python3"
  },
  "language_info": {
   "codemirror_mode": {
    "name": "ipython",
    "version": 3
   },
   "file_extension": ".py",
   "mimetype": "text/x-python",
   "name": "python",
   "nbconvert_exporter": "python",
   "pygments_lexer": "ipython3",
   "version": "3.7.0"
  }
 },
 "nbformat": 4,
 "nbformat_minor": 2
}
