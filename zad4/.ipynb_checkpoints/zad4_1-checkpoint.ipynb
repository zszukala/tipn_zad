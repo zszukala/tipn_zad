{
 "cells": [
  {
   "cell_type": "code",
   "execution_count": 2,
   "metadata": {},
   "outputs": [
    {
     "name": "stdin",
     "output_type": "stream",
     "text": [
      "Podaj zdanie:  Opos.\n"
     ]
    },
    {
     "name": "stdout",
     "output_type": "stream",
     "text": [
      "Rozumiem, pewnie masz rację.\n"
     ]
    }
   ],
   "source": [
    "zdanie = input(\"Podaj zdanie: \")\n",
    "if zdanie [-1] == \".\":\n",
    "    print (\"Rozumiem, pewnie masz rację.\")\n",
    "if zdanie [-1] == \"?\": \n",
    "    print (\"Nie wiem. Nie znam się.\")\n",
    "if zdanie [-1] == \"!\":\n",
    "    print (\"Nie krzycz! Słyszę się całkiem dobrze!\")"
   ]
  },
  {
   "cell_type": "code",
   "execution_count": null,
   "metadata": {},
   "outputs": [],
   "source": []
  }
 ],
 "metadata": {
  "kernelspec": {
   "display_name": "Python 3",
   "language": "python",
   "name": "python3"
  },
  "language_info": {
   "codemirror_mode": {
    "name": "ipython",
    "version": 3
   },
   "file_extension": ".py",
   "mimetype": "text/x-python",
   "name": "python",
   "nbconvert_exporter": "python",
   "pygments_lexer": "ipython3",
   "version": "3.7.0"
  }
 },
 "nbformat": 4,
 "nbformat_minor": 2
}
